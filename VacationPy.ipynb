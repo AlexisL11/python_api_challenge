{
 "cells": [
  {
   "cell_type": "markdown",
   "metadata": {},
   "source": [
    "# VacationPy\n",
    "----\n",
    "\n",
    "#### Note\n",
    "* Instructions have been included for each segment. You do not have to follow them exactly, but they are included to help you think through the steps."
   ]
  },
  {
   "cell_type": "code",
   "execution_count": 1,
   "metadata": {},
   "outputs": [],
   "source": [
    "import matplotlib.pyplot as plt\n",
    "import pandas as pd\n",
    "import numpy as np\n",
    "import requests\n",
    "import gmaps\n",
    "import os\n",
    "import time\n",
    "from pprint import pprint\n",
    "import json\n",
    "\n",
    "# Import API key\n",
    "from api_keys import g_key"
   ]
  },
  {
   "cell_type": "markdown",
   "metadata": {},
   "source": [
    "### Store Part I results into DataFrame\n",
    "* Load the csv exported in Part I to a DataFrame"
   ]
  },
  {
   "cell_type": "code",
   "execution_count": 2,
   "metadata": {},
   "outputs": [
    {
     "data": {
      "text/html": [
       "<div>\n",
       "<style scoped>\n",
       "    .dataframe tbody tr th:only-of-type {\n",
       "        vertical-align: middle;\n",
       "    }\n",
       "\n",
       "    .dataframe tbody tr th {\n",
       "        vertical-align: top;\n",
       "    }\n",
       "\n",
       "    .dataframe thead th {\n",
       "        text-align: right;\n",
       "    }\n",
       "</style>\n",
       "<table border=\"1\" class=\"dataframe\">\n",
       "  <thead>\n",
       "    <tr style=\"text-align: right;\">\n",
       "      <th></th>\n",
       "      <th>City ID</th>\n",
       "      <th>City</th>\n",
       "      <th>Cloudiness</th>\n",
       "      <th>Country</th>\n",
       "      <th>Date</th>\n",
       "      <th>Humidity</th>\n",
       "      <th>Latitude</th>\n",
       "      <th>Longitude</th>\n",
       "      <th>Max Temp</th>\n",
       "      <th>Wind Speed</th>\n",
       "    </tr>\n",
       "  </thead>\n",
       "  <tbody>\n",
       "    <tr>\n",
       "      <th>0</th>\n",
       "      <td>0</td>\n",
       "      <td>Kaitangata</td>\n",
       "      <td>52</td>\n",
       "      <td>NZ</td>\n",
       "      <td>1604261772</td>\n",
       "      <td>67.0</td>\n",
       "      <td>-46.28</td>\n",
       "      <td>169.85</td>\n",
       "      <td>51.01</td>\n",
       "      <td>8.99</td>\n",
       "    </tr>\n",
       "    <tr>\n",
       "      <th>1</th>\n",
       "      <td>1</td>\n",
       "      <td>Vanimo</td>\n",
       "      <td>99</td>\n",
       "      <td>PG</td>\n",
       "      <td>1604261455</td>\n",
       "      <td>81.0</td>\n",
       "      <td>-2.67</td>\n",
       "      <td>141.30</td>\n",
       "      <td>78.71</td>\n",
       "      <td>4.74</td>\n",
       "    </tr>\n",
       "    <tr>\n",
       "      <th>2</th>\n",
       "      <td>2</td>\n",
       "      <td>Qaanaaq</td>\n",
       "      <td>0</td>\n",
       "      <td>GL</td>\n",
       "      <td>1604261640</td>\n",
       "      <td>74.0</td>\n",
       "      <td>77.48</td>\n",
       "      <td>-69.36</td>\n",
       "      <td>1.08</td>\n",
       "      <td>7.56</td>\n",
       "    </tr>\n",
       "    <tr>\n",
       "      <th>3</th>\n",
       "      <td>3</td>\n",
       "      <td>Rikitea</td>\n",
       "      <td>77</td>\n",
       "      <td>PF</td>\n",
       "      <td>1604261494</td>\n",
       "      <td>86.0</td>\n",
       "      <td>-23.12</td>\n",
       "      <td>-134.97</td>\n",
       "      <td>74.55</td>\n",
       "      <td>22.30</td>\n",
       "    </tr>\n",
       "    <tr>\n",
       "      <th>4</th>\n",
       "      <td>4</td>\n",
       "      <td>Vardø</td>\n",
       "      <td>75</td>\n",
       "      <td>NO</td>\n",
       "      <td>1604261772</td>\n",
       "      <td>86.0</td>\n",
       "      <td>70.37</td>\n",
       "      <td>31.11</td>\n",
       "      <td>39.20</td>\n",
       "      <td>26.40</td>\n",
       "    </tr>\n",
       "  </tbody>\n",
       "</table>\n",
       "</div>"
      ],
      "text/plain": [
       "   City ID        City  Cloudiness Country        Date  Humidity  Latitude  \\\n",
       "0        0  Kaitangata          52      NZ  1604261772      67.0    -46.28   \n",
       "1        1      Vanimo          99      PG  1604261455      81.0     -2.67   \n",
       "2        2     Qaanaaq           0      GL  1604261640      74.0     77.48   \n",
       "3        3     Rikitea          77      PF  1604261494      86.0    -23.12   \n",
       "4        4       Vardø          75      NO  1604261772      86.0     70.37   \n",
       "\n",
       "   Longitude  Max Temp  Wind Speed  \n",
       "0     169.85     51.01        8.99  \n",
       "1     141.30     78.71        4.74  \n",
       "2     -69.36      1.08        7.56  \n",
       "3    -134.97     74.55       22.30  \n",
       "4      31.11     39.20       26.40  "
      ]
     },
     "execution_count": 2,
     "metadata": {},
     "output_type": "execute_result"
    }
   ],
   "source": [
    "# Load the csv exported in Part I to a DataFrame\n",
    "\n",
    "file = \"../output_data/clean_city_data.csv\"\n",
    "file_df = pd.read_csv(file)\n",
    "file_df.head()"
   ]
  },
  {
   "cell_type": "markdown",
   "metadata": {},
   "source": [
    "### Humidity Heatmap\n",
    "* Configure gmaps.\n",
    "* Use the Lat and Lng as locations and Humidity as the weight.\n",
    "* Add Heatmap layer to map."
   ]
  },
  {
   "cell_type": "code",
   "execution_count": 3,
   "metadata": {},
   "outputs": [
    {
     "data": {
      "text/plain": [
       "100.0"
      ]
     },
     "execution_count": 3,
     "metadata": {},
     "output_type": "execute_result"
    }
   ],
   "source": [
    "# Find the maximum value of Humidity to set the maximum intensity for the heatmap layer\n",
    "file_df['Humidity'].max()"
   ]
  },
  {
   "cell_type": "code",
   "execution_count": 4,
   "metadata": {},
   "outputs": [
    {
     "data": {
      "text/html": [
       "<div>\n",
       "<style scoped>\n",
       "    .dataframe tbody tr th:only-of-type {\n",
       "        vertical-align: middle;\n",
       "    }\n",
       "\n",
       "    .dataframe tbody tr th {\n",
       "        vertical-align: top;\n",
       "    }\n",
       "\n",
       "    .dataframe thead th {\n",
       "        text-align: right;\n",
       "    }\n",
       "</style>\n",
       "<table border=\"1\" class=\"dataframe\">\n",
       "  <thead>\n",
       "    <tr style=\"text-align: right;\">\n",
       "      <th></th>\n",
       "      <th>City ID</th>\n",
       "      <th>City</th>\n",
       "      <th>Cloudiness</th>\n",
       "      <th>Country</th>\n",
       "      <th>Date</th>\n",
       "      <th>Humidity</th>\n",
       "      <th>Latitude</th>\n",
       "      <th>Longitude</th>\n",
       "      <th>Max Temp</th>\n",
       "      <th>Wind Speed</th>\n",
       "    </tr>\n",
       "  </thead>\n",
       "  <tbody>\n",
       "    <tr>\n",
       "      <th>0</th>\n",
       "      <td>0</td>\n",
       "      <td>Kaitangata</td>\n",
       "      <td>52</td>\n",
       "      <td>NZ</td>\n",
       "      <td>1604261772</td>\n",
       "      <td>67.0</td>\n",
       "      <td>-46.28</td>\n",
       "      <td>169.85</td>\n",
       "      <td>51.01</td>\n",
       "      <td>8.99</td>\n",
       "    </tr>\n",
       "    <tr>\n",
       "      <th>1</th>\n",
       "      <td>1</td>\n",
       "      <td>Vanimo</td>\n",
       "      <td>99</td>\n",
       "      <td>PG</td>\n",
       "      <td>1604261455</td>\n",
       "      <td>81.0</td>\n",
       "      <td>-2.67</td>\n",
       "      <td>141.30</td>\n",
       "      <td>78.71</td>\n",
       "      <td>4.74</td>\n",
       "    </tr>\n",
       "    <tr>\n",
       "      <th>2</th>\n",
       "      <td>2</td>\n",
       "      <td>Qaanaaq</td>\n",
       "      <td>0</td>\n",
       "      <td>GL</td>\n",
       "      <td>1604261640</td>\n",
       "      <td>74.0</td>\n",
       "      <td>77.48</td>\n",
       "      <td>-69.36</td>\n",
       "      <td>1.08</td>\n",
       "      <td>7.56</td>\n",
       "    </tr>\n",
       "    <tr>\n",
       "      <th>3</th>\n",
       "      <td>3</td>\n",
       "      <td>Rikitea</td>\n",
       "      <td>77</td>\n",
       "      <td>PF</td>\n",
       "      <td>1604261494</td>\n",
       "      <td>86.0</td>\n",
       "      <td>-23.12</td>\n",
       "      <td>-134.97</td>\n",
       "      <td>74.55</td>\n",
       "      <td>22.30</td>\n",
       "    </tr>\n",
       "    <tr>\n",
       "      <th>4</th>\n",
       "      <td>4</td>\n",
       "      <td>Vardø</td>\n",
       "      <td>75</td>\n",
       "      <td>NO</td>\n",
       "      <td>1604261772</td>\n",
       "      <td>86.0</td>\n",
       "      <td>70.37</td>\n",
       "      <td>31.11</td>\n",
       "      <td>39.20</td>\n",
       "      <td>26.40</td>\n",
       "    </tr>\n",
       "  </tbody>\n",
       "</table>\n",
       "</div>"
      ],
      "text/plain": [
       "   City ID        City  Cloudiness Country        Date  Humidity  Latitude  \\\n",
       "0        0  Kaitangata          52      NZ  1604261772      67.0    -46.28   \n",
       "1        1      Vanimo          99      PG  1604261455      81.0     -2.67   \n",
       "2        2     Qaanaaq           0      GL  1604261640      74.0     77.48   \n",
       "3        3     Rikitea          77      PF  1604261494      86.0    -23.12   \n",
       "4        4       Vardø          75      NO  1604261772      86.0     70.37   \n",
       "\n",
       "   Longitude  Max Temp  Wind Speed  \n",
       "0     169.85     51.01        8.99  \n",
       "1     141.30     78.71        4.74  \n",
       "2     -69.36      1.08        7.56  \n",
       "3    -134.97     74.55       22.30  \n",
       "4      31.11     39.20       26.40  "
      ]
     },
     "execution_count": 4,
     "metadata": {},
     "output_type": "execute_result"
    }
   ],
   "source": [
    "file_df.head()"
   ]
  },
  {
   "cell_type": "code",
   "execution_count": 9,
   "metadata": {},
   "outputs": [
    {
     "data": {
      "application/vnd.jupyter.widget-view+json": {
       "model_id": "34efa14d718a4ca695a0785459d87a34",
       "version_major": 2,
       "version_minor": 0
      },
      "text/plain": [
       "Figure(layout=FigureLayout(height='420px'))"
      ]
     },
     "metadata": {},
     "output_type": "display_data"
    }
   ],
   "source": [
    "#  Access maps with unique API key\n",
    "gmaps.configure(api_key = g_key)\n",
    "\n",
    "# Create an empty list to store the locations\n",
    "locations = []\n",
    "\n",
    "# Use the latitude and longitude as locations\n",
    "file_df['Location'] = list(zip(file_df[\"Latitude\"], file_df[\"Longitude\"]))\n",
    "\n",
    "# Store latitude and longitude in locations list\n",
    "for coord in file_df['Location']:\n",
    "    locations.append(coord)\n",
    "\n",
    "# To use humidity as the weight    \n",
    "humidity = file_df['Humidity']\n",
    "\n",
    "# Add Heatmap layer to map\n",
    "fig = gmaps.figure()\n",
    "\n",
    "heat_layer = gmaps.heatmap_layer(locations, weights=humidity, \n",
    "                                 dissipating=False, max_intensity=100,\n",
    "                                 point_radius = 5)\n",
    "\n",
    "fig.add_layer(heat_layer)\n",
    "\n",
    "\n",
    "# Display figure\n",
    "fig\n"
   ]
  },
  {
   "cell_type": "markdown",
   "metadata": {},
   "source": [
    "### Create new DataFrame fitting weather criteria\n",
    "* Narrow down the cities to fit weather conditions.\n",
    "* Drop any rows will null values."
   ]
  },
  {
   "cell_type": "code",
   "execution_count": 10,
   "metadata": {},
   "outputs": [
    {
     "name": "stderr",
     "output_type": "stream",
     "text": [
      "C:\\Users\\Owner\\Anaconda3\\lib\\site-packages\\ipykernel_launcher.py:13: SettingWithCopyWarning: \n",
      "A value is trying to be set on a copy of a slice from a DataFrame.\n",
      "Try using .loc[row_indexer,col_indexer] = value instead\n",
      "\n",
      "See the caveats in the documentation: http://pandas.pydata.org/pandas-docs/stable/indexing.html#indexing-view-versus-copy\n",
      "  del sys.path[0]\n",
      "C:\\Users\\Owner\\Anaconda3\\lib\\site-packages\\ipykernel_launcher.py:14: SettingWithCopyWarning: \n",
      "A value is trying to be set on a copy of a slice from a DataFrame\n",
      "\n",
      "See the caveats in the documentation: http://pandas.pydata.org/pandas-docs/stable/indexing.html#indexing-view-versus-copy\n",
      "  \n"
     ]
    }
   ],
   "source": [
    "# Narrow down the cities to fit weather conditions\n",
    "\n",
    "    # A max temperature lower than 80 degrees but higher than 70.\n",
    "\n",
    "    # Wind speed less than 10 mph.\n",
    "\n",
    "    # Zero cloudiness.\n",
    "\n",
    "    # Drop any rows that don't contain all three conditions and any rows will null values.\n",
    "\n",
    "hotel_df = file_df[(file_df['Max Temp'] < 80) & (file_df['Max Temp'] > 70) & (file_df['Wind Speed'] < 10) & \n",
    "                 (file_df['Cloudiness'] == 0)]\n",
    "hotel_df[\"Hotel Name\"] = \"\"\n",
    "hotel_df.dropna(inplace=True)"
   ]
  },
  {
   "cell_type": "markdown",
   "metadata": {},
   "source": [
    "### Hotel Map\n",
    "* Store into variable named `hotel_df`.\n",
    "* Add a \"Hotel Name\" column to the DataFrame.\n",
    "* Set parameters to search for hotels with 5000 meters.\n",
    "* Hit the Google Places API for each city's coordinates.\n",
    "* Store the first Hotel result into the DataFrame.\n",
    "* Plot markers on top of the heatmap."
   ]
  },
  {
   "cell_type": "code",
   "execution_count": 11,
   "metadata": {},
   "outputs": [
    {
     "name": "stderr",
     "output_type": "stream",
     "text": [
      "C:\\Users\\Owner\\Anaconda3\\lib\\site-packages\\ipykernel_launcher.py:13: SettingWithCopyWarning: \n",
      "A value is trying to be set on a copy of a slice from a DataFrame.\n",
      "Try using .loc[row_indexer,col_indexer] = value instead\n",
      "\n",
      "See the caveats in the documentation: http://pandas.pydata.org/pandas-docs/stable/indexing.html#indexing-view-versus-copy\n",
      "  del sys.path[0]\n",
      "C:\\Users\\Owner\\Anaconda3\\lib\\site-packages\\ipykernel_launcher.py:14: SettingWithCopyWarning: \n",
      "A value is trying to be set on a copy of a slice from a DataFrame\n",
      "\n",
      "See the caveats in the documentation: http://pandas.pydata.org/pandas-docs/stable/indexing.html#indexing-view-versus-copy\n",
      "  \n"
     ]
    }
   ],
   "source": [
    "# Narrow down the cities to fit weather conditions\n",
    "\n",
    "    # A max temperature lower than 80 degrees but higher than 70.\n",
    "\n",
    "    # Wind speed less than 10 mph.\n",
    "\n",
    "    # Zero cloudiness.\n",
    "\n",
    "    # Drop any rows that don't contain all three conditions and any rows will null values.\n",
    "\n",
    "hotel_df = file_df[(file_df['Max Temp'] < 80) & (file_df['Max Temp'] > 70) & (file_df['Wind Speed'] < 10) & \n",
    "                 (file_df['Cloudiness'] == 0)]\n",
    "hotel_df[\"Hotel Name\"] = \"\"\n",
    "hotel_df.dropna(inplace=True)"
   ]
  },
  {
   "cell_type": "code",
   "execution_count": 12,
   "metadata": {},
   "outputs": [
    {
     "name": "stderr",
     "output_type": "stream",
     "text": [
      "C:\\Users\\Owner\\Anaconda3\\lib\\site-packages\\pandas\\core\\indexing.py:543: SettingWithCopyWarning: \n",
      "A value is trying to be set on a copy of a slice from a DataFrame.\n",
      "Try using .loc[row_indexer,col_indexer] = value instead\n",
      "\n",
      "See the caveats in the documentation: http://pandas.pydata.org/pandas-docs/stable/indexing.html#indexing-view-versus-copy\n",
      "  self.obj[item] = s\n"
     ]
    },
    {
     "name": "stdout",
     "output_type": "stream",
     "text": [
      "Name not found\n"
     ]
    }
   ],
   "source": [
    "# set up a parameters dictionary\n",
    "\n",
    "params = {\n",
    "    \"radius\": 50000,\n",
    "    \"keyword\": \"hotel\",\n",
    "    \"key\": g_key\n",
    "}\n",
    "\n",
    "# Use the latitude and longitude to identify hotels\n",
    "for index, row in hotel_df.iterrows():\n",
    "    lat = row[\"Latitude\"]\n",
    "    lng = row[\"Longitude\"]\n",
    "\n",
    "# change location each iteration while leaving original params in place\n",
    "    params[\"location\"] = f\"{lat},{lng}\"\n",
    "\n",
    "# base url\n",
    "    base_url = \"https://maps.googleapis.com/maps/api/place/nearbysearch/json\"\n",
    "\n",
    "# run a request using our params dictionary\n",
    "    hotels = requests.get(base_url, params=params)\n",
    "    hotels_json = hotels.json()\n",
    "    try:\n",
    "        hotel_df.loc[index, \"Hotel Name\"] = hotels_json[\"results\"][0][\"name\"]\n",
    "    except IndexError:\n",
    "        print(\"Name not found\")"
   ]
  },
  {
   "cell_type": "code",
   "execution_count": 14,
   "metadata": {},
   "outputs": [
    {
     "name": "stderr",
     "output_type": "stream",
     "text": [
      "C:\\Users\\Owner\\Anaconda3\\lib\\site-packages\\ipykernel_launcher.py:4: SettingWithCopyWarning: \n",
      "A value is trying to be set on a copy of a slice from a DataFrame\n",
      "\n",
      "See the caveats in the documentation: http://pandas.pydata.org/pandas-docs/stable/indexing.html#indexing-view-versus-copy\n",
      "  after removing the cwd from sys.path.\n"
     ]
    },
    {
     "data": {
      "text/html": [
       "<div>\n",
       "<style scoped>\n",
       "    .dataframe tbody tr th:only-of-type {\n",
       "        vertical-align: middle;\n",
       "    }\n",
       "\n",
       "    .dataframe tbody tr th {\n",
       "        vertical-align: top;\n",
       "    }\n",
       "\n",
       "    .dataframe thead th {\n",
       "        text-align: right;\n",
       "    }\n",
       "</style>\n",
       "<table border=\"1\" class=\"dataframe\">\n",
       "  <thead>\n",
       "    <tr style=\"text-align: right;\">\n",
       "      <th></th>\n",
       "      <th>City ID</th>\n",
       "      <th>City</th>\n",
       "      <th>Cloudiness</th>\n",
       "      <th>Country</th>\n",
       "      <th>Date</th>\n",
       "      <th>Humidity</th>\n",
       "      <th>Latitude</th>\n",
       "      <th>Longitude</th>\n",
       "      <th>Max Temp</th>\n",
       "      <th>Wind Speed</th>\n",
       "      <th>Location</th>\n",
       "      <th>Hotel Name</th>\n",
       "    </tr>\n",
       "  </thead>\n",
       "  <tbody>\n",
       "    <tr>\n",
       "      <th>16</th>\n",
       "      <td>16</td>\n",
       "      <td>Mormugao</td>\n",
       "      <td>0</td>\n",
       "      <td>IN</td>\n",
       "      <td>1604261774</td>\n",
       "      <td>80.0</td>\n",
       "      <td>15.40</td>\n",
       "      <td>73.80</td>\n",
       "      <td>77.04</td>\n",
       "      <td>3.69</td>\n",
       "      <td>(15.4, 73.8)</td>\n",
       "      <td>Taj Hotel &amp; Convention Centre, Goa</td>\n",
       "    </tr>\n",
       "    <tr>\n",
       "      <th>36</th>\n",
       "      <td>36</td>\n",
       "      <td>Yārāda</td>\n",
       "      <td>0</td>\n",
       "      <td>IN</td>\n",
       "      <td>1604261777</td>\n",
       "      <td>88.0</td>\n",
       "      <td>17.65</td>\n",
       "      <td>83.27</td>\n",
       "      <td>78.80</td>\n",
       "      <td>2.24</td>\n",
       "      <td>(17.65, 83.27)</td>\n",
       "      <td>Dolphin Hotel Vishakapatnam</td>\n",
       "    </tr>\n",
       "    <tr>\n",
       "      <th>44</th>\n",
       "      <td>44</td>\n",
       "      <td>Coyhaique</td>\n",
       "      <td>0</td>\n",
       "      <td>CL</td>\n",
       "      <td>1604261417</td>\n",
       "      <td>21.0</td>\n",
       "      <td>-45.58</td>\n",
       "      <td>-72.07</td>\n",
       "      <td>78.80</td>\n",
       "      <td>8.05</td>\n",
       "      <td>(-45.58, -72.07)</td>\n",
       "      <td>Entre Cumbres Apart Hotel</td>\n",
       "    </tr>\n",
       "    <tr>\n",
       "      <th>155</th>\n",
       "      <td>155</td>\n",
       "      <td>Chhor</td>\n",
       "      <td>0</td>\n",
       "      <td>PK</td>\n",
       "      <td>1604261797</td>\n",
       "      <td>18.0</td>\n",
       "      <td>25.52</td>\n",
       "      <td>69.77</td>\n",
       "      <td>77.68</td>\n",
       "      <td>7.25</td>\n",
       "      <td>(25.52, 69.77)</td>\n",
       "      <td>Ghosia Guest House</td>\n",
       "    </tr>\n",
       "    <tr>\n",
       "      <th>196</th>\n",
       "      <td>196</td>\n",
       "      <td>Noumea</td>\n",
       "      <td>0</td>\n",
       "      <td>NC</td>\n",
       "      <td>1604261255</td>\n",
       "      <td>57.0</td>\n",
       "      <td>-22.28</td>\n",
       "      <td>166.46</td>\n",
       "      <td>79.00</td>\n",
       "      <td>2.24</td>\n",
       "      <td>(-22.28, 166.46)</td>\n",
       "      <td>Nouvata</td>\n",
       "    </tr>\n",
       "  </tbody>\n",
       "</table>\n",
       "</div>"
      ],
      "text/plain": [
       "     City ID       City  Cloudiness Country        Date  Humidity  Latitude  \\\n",
       "16        16   Mormugao           0      IN  1604261774      80.0     15.40   \n",
       "36        36     Yārāda           0      IN  1604261777      88.0     17.65   \n",
       "44        44  Coyhaique           0      CL  1604261417      21.0    -45.58   \n",
       "155      155      Chhor           0      PK  1604261797      18.0     25.52   \n",
       "196      196     Noumea           0      NC  1604261255      57.0    -22.28   \n",
       "\n",
       "     Longitude  Max Temp  Wind Speed          Location  \\\n",
       "16       73.80     77.04        3.69      (15.4, 73.8)   \n",
       "36       83.27     78.80        2.24    (17.65, 83.27)   \n",
       "44      -72.07     78.80        8.05  (-45.58, -72.07)   \n",
       "155      69.77     77.68        7.25    (25.52, 69.77)   \n",
       "196     166.46     79.00        2.24  (-22.28, 166.46)   \n",
       "\n",
       "                             Hotel Name  \n",
       "16   Taj Hotel & Convention Centre, Goa  \n",
       "36          Dolphin Hotel Vishakapatnam  \n",
       "44            Entre Cumbres Apart Hotel  \n",
       "155                  Ghosia Guest House  \n",
       "196                             Nouvata  "
      ]
     },
     "execution_count": 14,
     "metadata": {},
     "output_type": "execute_result"
    }
   ],
   "source": [
    "# Drop any empty Hotel row in the DataFrame\n",
    "\n",
    "hotel_df['Hotel Name'].replace('', np.nan, inplace=True)\n",
    "hotel_df.dropna(subset=['Hotel Name'], inplace=True)\n",
    "hotel_df.head()"
   ]
  },
  {
   "cell_type": "code",
   "execution_count": 15,
   "metadata": {},
   "outputs": [],
   "source": [
    "# NOTE: Do not change any of the code in this cell\n",
    "# hotel_locations = [hotel for hotel in hotel_df['Hotel Name']]\n",
    "\n",
    "# Using the template add the hotel marks to the heatmap\n",
    "info_box_template = \"\"\"\n",
    "<dl>\n",
    "<dt>Name</dt><dd>{Hotel Name}</dd>\n",
    "<dt>City</dt><dd>{City}</dd>\n",
    "<dt>Country</dt><dd>{Country}</dd>\n",
    "</dl>\n",
    "\"\"\"\n",
    "# Store the DataFrame Row\n",
    "# NOTE: be sure to update with your DataFrame name\n",
    "hotel_info = [info_box_template.format(**row) for index, row in hotel_df.iterrows()]\n",
    "locations = hotel_df[[\"Latitude\", \"Longitude\"]]"
   ]
  },
  {
   "cell_type": "code",
   "execution_count": 16,
   "metadata": {},
   "outputs": [
    {
     "data": {
      "application/vnd.jupyter.widget-view+json": {
       "model_id": "202a5e5ad02b4125a02567d10db88035",
       "version_major": 2,
       "version_minor": 0
      },
      "text/plain": [
       "Figure(layout=FigureLayout(height='420px'))"
      ]
     },
     "metadata": {},
     "output_type": "display_data"
    }
   ],
   "source": [
    "# Add marker layer ontop of heat map\n",
    "marker_layer = gmaps.marker_layer(locations, info_box_content=hotel_info)\n",
    "fig = gmaps.figure()\n",
    "fig.add_layer(marker_layer)\n",
    "\n",
    "# Display figure\n",
    "\n",
    "humidity= file_df['Humidity']\n",
    "location2 = file_df['Location']\n",
    "# # fig = gmaps.figure()\n",
    "\n",
    "heat_layer = gmaps.heatmap_layer(location2, weights=humidity, \n",
    "                                 dissipating=False, max_intensity=100,\n",
    "                                 point_radius = 5)\n",
    "\n",
    "fig.add_layer(heat_layer)\n",
    "\n",
    "fig"
   ]
  },
  {
   "cell_type": "code",
   "execution_count": null,
   "metadata": {},
   "outputs": [],
   "source": []
  }
 ],
 "metadata": {
  "kernelspec": {
   "display_name": "Python 3",
   "language": "python",
   "name": "python3"
  },
  "language_info": {
   "codemirror_mode": {
    "name": "ipython",
    "version": 3
   },
   "file_extension": ".py",
   "mimetype": "text/x-python",
   "name": "python",
   "nbconvert_exporter": "python",
   "pygments_lexer": "ipython3",
   "version": "3.7.3"
  },
  "latex_envs": {
   "LaTeX_envs_menu_present": true,
   "autoclose": false,
   "autocomplete": true,
   "bibliofile": "biblio.bib",
   "cite_by": "apalike",
   "current_citInitial": 1,
   "eqLabelWithNumbers": true,
   "eqNumInitial": 1,
   "hotkeys": {
    "equation": "Ctrl-E",
    "itemize": "Ctrl-I"
   },
   "labels_anchors": false,
   "latex_user_defs": false,
   "report_style_numbering": false,
   "user_envs_cfg": false
  }
 },
 "nbformat": 4,
 "nbformat_minor": 2
}
